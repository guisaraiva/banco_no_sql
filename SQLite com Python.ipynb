{
 "cells": [
  {
   "cell_type": "markdown",
   "metadata": {},
   "source": [
    "### Criando e acessando o Banco de Dados com Python - SQLITE"
   ]
  },
  {
   "cell_type": "code",
   "execution_count": 1,
   "metadata": {},
   "outputs": [],
   "source": [
    "# Importando o módulo de acesso ao SQLite.\n",
    "# Ele já está instalado por causa do Anaconda instalado na máquina.\n",
    "\n",
    "import sqlite3 as sql"
   ]
  },
  {
   "cell_type": "code",
   "execution_count": 2,
   "metadata": {},
   "outputs": [],
   "source": [
    "# Cria uma conexão com o banco de dados. \n",
    "# Se o banco de dados não existir, ele é criado neste momento.\n",
    "# Buscando o banco de dados através do connect do sqlite3.\n",
    "\n",
    "conexao = sql.connect('escola.db')"
   ]
  },
  {
   "cell_type": "code",
   "execution_count": 3,
   "metadata": {},
   "outputs": [],
   "source": [
    "# Criando um cursor. Como eu conheço Oracle, já tenho a ideia de que um cursor pode fazer. \n",
    "# (Um cursor permite percorrer todos os registros em um conjunto de dados)\n",
    "\n",
    "percorre = conexao.cursor()"
   ]
  },
  {
   "cell_type": "code",
   "execution_count": 4,
   "metadata": {},
   "outputs": [],
   "source": [
    "# Cria uma instrução sql. Temos que armazenar o comando em uma variável.\n",
    "# Nomeando a variável com nomes sugestivos para entender o conteúdo armazenado.\n",
    "# Criando uma tabela \"cursos\" com os atributos (ID, TITULO, CATEGORIA). Sendo o ID a chave primária da tabela.\n",
    "\n",
    "sql_create = 'create table cursos '\\\n",
    "'(id integer primary key, '\\\n",
    "'titulo varchar(100), '\\\n",
    "'categoria varchar(140))'"
   ]
  },
  {
   "cell_type": "code",
   "execution_count": 5,
   "metadata": {},
   "outputs": [
    {
     "data": {
      "text/plain": [
       "<sqlite3.Cursor at 0x2d0b3245880>"
      ]
     },
     "execution_count": 5,
     "metadata": {},
     "output_type": "execute_result"
    }
   ],
   "source": [
    "# Executando a instrução sql no cursor \n",
    "# Nesse bloco estamos chamando o metodo execute do objeto percorre criado anteriormente.\n",
    "# Passando como parâmetro a variável de criação do banco.\n",
    "\n",
    "percorre.execute(sql_create)"
   ]
  },
  {
   "cell_type": "code",
   "execution_count": 6,
   "metadata": {},
   "outputs": [],
   "source": [
    "# Criando outra sentença SQL para inserir registros\n",
    "# Criamos uma instrução SQL para inserir registros. \n",
    "# Ainda não temos os parâmetros. Desta forma, os values estão com \"interrogação\".\n",
    "\n",
    "sql_insert = 'insert into cursos values (?, ?, ?)'"
   ]
  },
  {
   "cell_type": "code",
   "execution_count": 7,
   "metadata": {},
   "outputs": [],
   "source": [
    "# Dados que serão inseridos na tabela. Estou armazenando em uma variável. Como no exemplo anterior.\n",
    "\n",
    "dados = [(1000, 'Ciência de Dados', 'Data Science'),\n",
    "          (1001, 'Big Data Fundamentos', 'Big Data'),\n",
    "          (1002, 'Python Fundamentos', 'Análise de Dados')]"
   ]
  },
  {
   "cell_type": "code",
   "execution_count": 8,
   "metadata": {},
   "outputs": [],
   "source": [
    "# Inserindo os registros\n",
    "for rec in dados:\n",
    "    percorre.execute(sql_insert, rec)"
   ]
  },
  {
   "cell_type": "code",
   "execution_count": 9,
   "metadata": {},
   "outputs": [],
   "source": [
    "# Grava a transação. O comando commit é executado para confirmar a operação de insert anterior.\n",
    "\n",
    "conexao.commit()"
   ]
  },
  {
   "cell_type": "code",
   "execution_count": 10,
   "metadata": {},
   "outputs": [],
   "source": [
    "# Criando outra sentença SQL para selecionar registros. \n",
    "# Vamos realizar uma consulta em todos os dados da tabela criada.\n",
    "# Não estou passando nenhuma condição para filtrar os dados.\n",
    "\n",
    "sql_select = 'select * from cursos'"
   ]
  },
  {
   "cell_type": "code",
   "execution_count": 11,
   "metadata": {},
   "outputs": [],
   "source": [
    "# Seleciona todos os registros e recupera os registros\n",
    "# Usei novamente a variável percorre (Cursor) juntamente com o metódo execute.\n",
    "# Variável dadosrecuperado recebe o cursor com o metódo fetchall() retornando todos os registros da consulta.\n",
    "percorre.execute(sql_select)\n",
    "\n",
    "dadosrecuperado = percorre.fetchall()"
   ]
  },
  {
   "cell_type": "code",
   "execution_count": 12,
   "metadata": {},
   "outputs": [
    {
     "name": "stdout",
     "output_type": "stream",
     "text": [
      "Curso Id: 1000, Título: Ciência de Dados, Categoria: Data Science \n",
      "\n",
      "Curso Id: 1001, Título: Big Data Fundamentos, Categoria: Big Data \n",
      "\n",
      "Curso Id: 1002, Título: Python Fundamentos, Categoria: Análise de Dados \n",
      "\n"
     ]
    }
   ],
   "source": [
    "# Criando novamente um for para percorrer a variável dadosrecuperado e exibir com o print os resultados.\n",
    "\n",
    "for linha in dadosrecuperado:\n",
    "    print ('Curso Id: %d, Título: %s, Categoria: %s \\n' % linha)"
   ]
  },
  {
   "cell_type": "code",
   "execution_count": 13,
   "metadata": {},
   "outputs": [],
   "source": [
    "# Gerando outros registros na tabela cursos. \n",
    "# Neste caso, executei todos os procedimentos em uma mesma célula do Jupyter notebook.\n",
    "\n",
    "novosDados = [(1003, 'Gestão de Dados com MongoDB', 'Big Data'),\n",
    "              (1004, 'R Fundamentos', 'Análise de Dados')]\n",
    "\n",
    "# Inserindo os registros através do loop For. \n",
    "# Novamente vamos passar a variável que recebeu os novos dados e realizar o insert.\n",
    "\n",
    "for rec in novosDados:\n",
    "    percorre.execute(sql_insert, rec)\n",
    "    \n",
    "# Gravando a transação. Lembrando que os dados serão gravados com o metódo commit().\n",
    "\n",
    "conexao.commit()"
   ]
  },
  {
   "cell_type": "code",
   "execution_count": 14,
   "metadata": {},
   "outputs": [
    {
     "name": "stdout",
     "output_type": "stream",
     "text": [
      "Curso Id: 1000, Título: Ciência de Dados, Categoria: Data Science \n",
      "\n",
      "Curso Id: 1001, Título: Big Data Fundamentos, Categoria: Big Data \n",
      "\n",
      "Curso Id: 1002, Título: Python Fundamentos, Categoria: Análise de Dados \n",
      "\n",
      "Curso Id: 1003, Título: Gestão de Dados com MongoDB, Categoria: Big Data \n",
      "\n",
      "Curso Id: 1004, Título: R Fundamentos, Categoria: Análise de Dados \n",
      "\n"
     ]
    }
   ],
   "source": [
    "# Seleciona todos os registros da tabela. \n",
    "# Não estou passando nenhuma condição para retornar os dados.\n",
    "# Usamos o cursor criado \"percorre\" com o excecute.\n",
    "\n",
    "percorre.execute('select * from cursos')\n",
    "\n",
    "# Recupera os resultados e armazena na variável \n",
    "todosDados = percorre.fetchall()\n",
    "\n",
    "# Mostra\n",
    "for rec in todosDados:\n",
    "    print ('Curso Id: %d, Título: %s, Categoria: %s \\n' % rec)"
   ]
  },
  {
   "cell_type": "code",
   "execution_count": 15,
   "metadata": {},
   "outputs": [],
   "source": [
    "# Fecha a conexão através do metódo close().\n",
    "# A variável de conexão foi criada no ínicio da execução desse script.\n",
    "\n",
    "conexao.close()"
   ]
  }
 ],
 "metadata": {
  "kernelspec": {
   "display_name": "Python 3",
   "language": "python",
   "name": "python3"
  },
  "language_info": {
   "codemirror_mode": {
    "name": "ipython",
    "version": 3
   },
   "file_extension": ".py",
   "mimetype": "text/x-python",
   "name": "python",
   "nbconvert_exporter": "python",
   "pygments_lexer": "ipython3",
   "version": "3.6.5"
  }
 },
 "nbformat": 4,
 "nbformat_minor": 1
}
